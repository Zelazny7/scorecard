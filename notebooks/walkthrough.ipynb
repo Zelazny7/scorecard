{
 "metadata": {
  "language_info": {
   "codemirror_mode": {
    "name": "ipython",
    "version": 3
   },
   "file_extension": ".py",
   "mimetype": "text/x-python",
   "name": "python",
   "nbconvert_exporter": "python",
   "pygments_lexer": "ipython3",
   "version": "3.8.5-final"
  },
  "orig_nbformat": 2,
  "kernelspec": {
   "name": "python3",
   "display_name": "Python 3.8.5 64-bit ('data-science': conda)",
   "metadata": {
    "interpreter": {
     "hash": "29606a96d3b1f51fbf49d06600ddfd9d36b151cae028751309831edcb7dbb2c1"
    }
   }
  }
 },
 "nbformat": 4,
 "nbformat_minor": 2,
 "cells": [
  {
   "source": [
    "## Building Scorecards\n",
    "\n",
    "This notebook runs through the high-level featues of building a scorecard. \n",
    "\n",
    "## Discretization"
   ],
   "cell_type": "markdown",
   "metadata": {}
  },
  {
   "cell_type": "code",
   "execution_count": 7,
   "metadata": {},
   "outputs": [],
   "source": [
    "import sys\n",
    "sys.path.insert(0, 'c:/projects/py-dev/scorecard')\n",
    "from scorecard.scorecard import Scorecard\n",
    "from scorecard.performance import BinaryPerformance\n",
    "import seaborn as sns\n",
    "\n",
    "df = sns.load_dataset('titanic')"
   ]
  },
  {
   "source": [
    "Scorecard models often do not use continuous variables as-is. They are first discretized to create a set of bins. The discretization is performed by building a decision tree on each continuous variable and extracting the split points.\n",
    "\n",
    "The `discretize` class method takes `kwargs` that are passed on to the sklearn DecisionTreeClassifier object. This allows the user to control how many bins are created and how many observations they contain. \n",
    "\n",
    "The `discretize` method takes a dataframe and a `Performance` object. Non-numeric fields are not discretized, but they are included in the scorecard for modeling. After calling `discretize` a `Scorecard` object is returned."
   ],
   "cell_type": "markdown",
   "metadata": {}
  },
  {
   "cell_type": "code",
   "execution_count": 16,
   "metadata": {},
   "outputs": [],
   "source": [
    "perf = BinaryPerformance(df.survived)\n",
    "mod = Scorecard.discretize(df.drop(columns=['survived']), perf, max_leaf_nodes=6, min_samples_leaf=50)"
   ]
  },
  {
   "source": [
    "## Adjusting Variables\n",
    "\n",
    "The `Scorecard` object maintains a collection of variables that the user can refine using basic operations like expanding and collapsing bin levels, neutralizing levels, or applying constraints on how the fitted model coefficients must relate to one another.\n",
    "\n",
    "The first step is to simply display the variable, though, and that is performed by calling the `display` method and passing in the name of the variable. Below we can see what the \"pclass\" variable looks like and the kind of information that is summarized.\n",
    "\n",
    "Because the model was created using `BinaryPerformance`, summary information related to a binary target variable is shown. Using another performance type will display different information."
   ],
   "cell_type": "markdown",
   "metadata": {}
  },
  {
   "cell_type": "code",
   "execution_count": 13,
   "metadata": {},
   "outputs": [
    {
     "output_type": "execute_result",
     "data": {
      "text/plain": [
       "                  N   # 0s   # 1s   1s Rate      % 0s      % 1s       WoE  \\\n",
       "(-inf, 1.50]  216.0   80.0  136.0  0.629630  0.145719  0.397661  1.003916   \n",
       "(1.50, 2.50]  184.0   97.0   87.0  0.472826  0.176685  0.254386  0.364485   \n",
       "(2.50, inf]   491.0  372.0  119.0  0.242363  0.677596  0.347953 -0.666483   \n",
       "Missing         0.0    0.0    0.0  0.000000  0.000000  0.000000  0.000000   \n",
       "Total         891.0  549.0  342.0  0.383838  1.000000  1.000000  0.000000   \n",
       "\n",
       "                    IV Constr  \n",
       "(-inf, 1.50]  0.252928         \n",
       "(1.50, 2.50]  0.028321         \n",
       "(2.50, inf]   0.219701         \n",
       "Missing       0.000000    neu  \n",
       "Total         0.500950         "
      ],
      "text/html": "<div>\n<style scoped>\n    .dataframe tbody tr th:only-of-type {\n        vertical-align: middle;\n    }\n\n    .dataframe tbody tr th {\n        vertical-align: top;\n    }\n\n    .dataframe thead th {\n        text-align: right;\n    }\n</style>\n<table border=\"1\" class=\"dataframe\">\n  <thead>\n    <tr style=\"text-align: right;\">\n      <th></th>\n      <th>N</th>\n      <th># 0s</th>\n      <th># 1s</th>\n      <th>1s Rate</th>\n      <th>% 0s</th>\n      <th>% 1s</th>\n      <th>WoE</th>\n      <th>IV</th>\n      <th>Constr</th>\n    </tr>\n  </thead>\n  <tbody>\n    <tr>\n      <th>(-inf, 1.50]</th>\n      <td>216.0</td>\n      <td>80.0</td>\n      <td>136.0</td>\n      <td>0.629630</td>\n      <td>0.145719</td>\n      <td>0.397661</td>\n      <td>1.003916</td>\n      <td>0.252928</td>\n      <td></td>\n    </tr>\n    <tr>\n      <th>(1.50, 2.50]</th>\n      <td>184.0</td>\n      <td>97.0</td>\n      <td>87.0</td>\n      <td>0.472826</td>\n      <td>0.176685</td>\n      <td>0.254386</td>\n      <td>0.364485</td>\n      <td>0.028321</td>\n      <td></td>\n    </tr>\n    <tr>\n      <th>(2.50, inf]</th>\n      <td>491.0</td>\n      <td>372.0</td>\n      <td>119.0</td>\n      <td>0.242363</td>\n      <td>0.677596</td>\n      <td>0.347953</td>\n      <td>-0.666483</td>\n      <td>0.219701</td>\n      <td></td>\n    </tr>\n    <tr>\n      <th>Missing</th>\n      <td>0.0</td>\n      <td>0.0</td>\n      <td>0.0</td>\n      <td>0.000000</td>\n      <td>0.000000</td>\n      <td>0.000000</td>\n      <td>0.000000</td>\n      <td>0.000000</td>\n      <td>neu</td>\n    </tr>\n    <tr>\n      <th>Total</th>\n      <td>891.0</td>\n      <td>549.0</td>\n      <td>342.0</td>\n      <td>0.383838</td>\n      <td>1.000000</td>\n      <td>1.000000</td>\n      <td>0.000000</td>\n      <td>0.500950</td>\n      <td></td>\n    </tr>\n  </tbody>\n</table>\n</div>"
     },
     "metadata": {},
     "execution_count": 13
    }
   ],
   "source": [
    "mod.display_variable('pclass')"
   ]
  },
  {
   "cell_type": "code",
   "execution_count": 17,
   "metadata": {},
   "outputs": [
    {
     "output_type": "execute_result",
     "data": {
      "text/plain": [
       "                    N   # 0s   # 1s   1s Rate      % 0s      % 1s       WoE  \\\n",
       "(-inf, 10.48]   339.0  272.0   67.0  0.197640  0.495446  0.195906 -0.927822   \n",
       "(10.48, 15.65]  136.0   83.0   53.0  0.389706  0.151184  0.154971  0.024739   \n",
       "(15.65, 31.14]  194.0  101.0   93.0  0.479381  0.183971  0.271930  0.390767   \n",
       "(31.14, 50.99]   63.0   43.0   20.0  0.317460  0.078324  0.058480 -0.292180   \n",
       "(50.99, 74.38]   62.0   27.0   35.0  0.564516  0.049180  0.102339  0.732799   \n",
       "(74.38, inf]     97.0   23.0   74.0  0.762887  0.041894  0.216374  1.641859   \n",
       "Missing           0.0    0.0    0.0  0.000000  0.000000  0.000000  0.000000   \n",
       "Total           891.0  549.0  342.0  0.383838  1.000000  1.000000  0.000000   \n",
       "\n",
       "                      IV Constr  \n",
       "(-inf, 10.48]   0.277920         \n",
       "(10.48, 15.65]  0.000094         \n",
       "(15.65, 31.14]  0.034371         \n",
       "(31.14, 50.99]  0.005798         \n",
       "(50.99, 74.38]  0.038955         \n",
       "(74.38, inf]    0.286471         \n",
       "Missing         0.000000    neu  \n",
       "Total           0.643609         "
      ],
      "text/html": "<div>\n<style scoped>\n    .dataframe tbody tr th:only-of-type {\n        vertical-align: middle;\n    }\n\n    .dataframe tbody tr th {\n        vertical-align: top;\n    }\n\n    .dataframe thead th {\n        text-align: right;\n    }\n</style>\n<table border=\"1\" class=\"dataframe\">\n  <thead>\n    <tr style=\"text-align: right;\">\n      <th></th>\n      <th>N</th>\n      <th># 0s</th>\n      <th># 1s</th>\n      <th>1s Rate</th>\n      <th>% 0s</th>\n      <th>% 1s</th>\n      <th>WoE</th>\n      <th>IV</th>\n      <th>Constr</th>\n    </tr>\n  </thead>\n  <tbody>\n    <tr>\n      <th>(-inf, 10.48]</th>\n      <td>339.0</td>\n      <td>272.0</td>\n      <td>67.0</td>\n      <td>0.197640</td>\n      <td>0.495446</td>\n      <td>0.195906</td>\n      <td>-0.927822</td>\n      <td>0.277920</td>\n      <td></td>\n    </tr>\n    <tr>\n      <th>(10.48, 15.65]</th>\n      <td>136.0</td>\n      <td>83.0</td>\n      <td>53.0</td>\n      <td>0.389706</td>\n      <td>0.151184</td>\n      <td>0.154971</td>\n      <td>0.024739</td>\n      <td>0.000094</td>\n      <td></td>\n    </tr>\n    <tr>\n      <th>(15.65, 31.14]</th>\n      <td>194.0</td>\n      <td>101.0</td>\n      <td>93.0</td>\n      <td>0.479381</td>\n      <td>0.183971</td>\n      <td>0.271930</td>\n      <td>0.390767</td>\n      <td>0.034371</td>\n      <td></td>\n    </tr>\n    <tr>\n      <th>(31.14, 50.99]</th>\n      <td>63.0</td>\n      <td>43.0</td>\n      <td>20.0</td>\n      <td>0.317460</td>\n      <td>0.078324</td>\n      <td>0.058480</td>\n      <td>-0.292180</td>\n      <td>0.005798</td>\n      <td></td>\n    </tr>\n    <tr>\n      <th>(50.99, 74.38]</th>\n      <td>62.0</td>\n      <td>27.0</td>\n      <td>35.0</td>\n      <td>0.564516</td>\n      <td>0.049180</td>\n      <td>0.102339</td>\n      <td>0.732799</td>\n      <td>0.038955</td>\n      <td></td>\n    </tr>\n    <tr>\n      <th>(74.38, inf]</th>\n      <td>97.0</td>\n      <td>23.0</td>\n      <td>74.0</td>\n      <td>0.762887</td>\n      <td>0.041894</td>\n      <td>0.216374</td>\n      <td>1.641859</td>\n      <td>0.286471</td>\n      <td></td>\n    </tr>\n    <tr>\n      <th>Missing</th>\n      <td>0.0</td>\n      <td>0.0</td>\n      <td>0.0</td>\n      <td>0.000000</td>\n      <td>0.000000</td>\n      <td>0.000000</td>\n      <td>0.000000</td>\n      <td>0.000000</td>\n      <td>neu</td>\n    </tr>\n    <tr>\n      <th>Total</th>\n      <td>891.0</td>\n      <td>549.0</td>\n      <td>342.0</td>\n      <td>0.383838</td>\n      <td>1.000000</td>\n      <td>1.000000</td>\n      <td>0.000000</td>\n      <td>0.643609</td>\n      <td></td>\n    </tr>\n  </tbody>\n</table>\n</div>"
     },
     "metadata": {},
     "execution_count": 17
    }
   ],
   "source": [
    "mod.display_variable('fare')"
   ]
  },
  {
   "source": [
    "### Adjusting Bins"
   ],
   "cell_type": "markdown",
   "metadata": {}
  },
  {
   "cell_type": "code",
   "execution_count": 18,
   "metadata": {},
   "outputs": [],
   "source": [
    "mod['fare'].collapse([4, 5])"
   ]
  },
  {
   "cell_type": "code",
   "execution_count": 19,
   "metadata": {},
   "outputs": [
    {
     "output_type": "execute_result",
     "data": {
      "text/plain": [
       "                    N   # 0s   # 1s   1s Rate      % 0s      % 1s       WoE  \\\n",
       "(-inf, 10.48]   339.0  272.0   67.0  0.197640  0.495446  0.195906 -0.927822   \n",
       "(10.48, 15.65]  136.0   83.0   53.0  0.389706  0.151184  0.154971  0.024739   \n",
       "(15.65, 31.14]  194.0  101.0   93.0  0.479381  0.183971  0.271930  0.390767   \n",
       "(31.14, 50.99]   63.0   43.0   20.0  0.317460  0.078324  0.058480 -0.292180   \n",
       "(50.99, inf]    159.0   50.0  109.0  0.685535  0.091075  0.318713  1.252613   \n",
       "Missing           0.0    0.0    0.0  0.000000  0.000000  0.000000  0.000000   \n",
       "Total           891.0  549.0  342.0  0.383838  1.000000  1.000000  0.000000   \n",
       "\n",
       "                      IV Constr  \n",
       "(-inf, 10.48]   0.277920         \n",
       "(10.48, 15.65]  0.000094         \n",
       "(15.65, 31.14]  0.034371         \n",
       "(31.14, 50.99]  0.005798         \n",
       "(50.99, inf]    0.285143         \n",
       "Missing         0.000000    neu  \n",
       "Total           0.603326         "
      ],
      "text/html": "<div>\n<style scoped>\n    .dataframe tbody tr th:only-of-type {\n        vertical-align: middle;\n    }\n\n    .dataframe tbody tr th {\n        vertical-align: top;\n    }\n\n    .dataframe thead th {\n        text-align: right;\n    }\n</style>\n<table border=\"1\" class=\"dataframe\">\n  <thead>\n    <tr style=\"text-align: right;\">\n      <th></th>\n      <th>N</th>\n      <th># 0s</th>\n      <th># 1s</th>\n      <th>1s Rate</th>\n      <th>% 0s</th>\n      <th>% 1s</th>\n      <th>WoE</th>\n      <th>IV</th>\n      <th>Constr</th>\n    </tr>\n  </thead>\n  <tbody>\n    <tr>\n      <th>(-inf, 10.48]</th>\n      <td>339.0</td>\n      <td>272.0</td>\n      <td>67.0</td>\n      <td>0.197640</td>\n      <td>0.495446</td>\n      <td>0.195906</td>\n      <td>-0.927822</td>\n      <td>0.277920</td>\n      <td></td>\n    </tr>\n    <tr>\n      <th>(10.48, 15.65]</th>\n      <td>136.0</td>\n      <td>83.0</td>\n      <td>53.0</td>\n      <td>0.389706</td>\n      <td>0.151184</td>\n      <td>0.154971</td>\n      <td>0.024739</td>\n      <td>0.000094</td>\n      <td></td>\n    </tr>\n    <tr>\n      <th>(15.65, 31.14]</th>\n      <td>194.0</td>\n      <td>101.0</td>\n      <td>93.0</td>\n      <td>0.479381</td>\n      <td>0.183971</td>\n      <td>0.271930</td>\n      <td>0.390767</td>\n      <td>0.034371</td>\n      <td></td>\n    </tr>\n    <tr>\n      <th>(31.14, 50.99]</th>\n      <td>63.0</td>\n      <td>43.0</td>\n      <td>20.0</td>\n      <td>0.317460</td>\n      <td>0.078324</td>\n      <td>0.058480</td>\n      <td>-0.292180</td>\n      <td>0.005798</td>\n      <td></td>\n    </tr>\n    <tr>\n      <th>(50.99, inf]</th>\n      <td>159.0</td>\n      <td>50.0</td>\n      <td>109.0</td>\n      <td>0.685535</td>\n      <td>0.091075</td>\n      <td>0.318713</td>\n      <td>1.252613</td>\n      <td>0.285143</td>\n      <td></td>\n    </tr>\n    <tr>\n      <th>Missing</th>\n      <td>0.0</td>\n      <td>0.0</td>\n      <td>0.0</td>\n      <td>0.000000</td>\n      <td>0.000000</td>\n      <td>0.000000</td>\n      <td>0.000000</td>\n      <td>0.000000</td>\n      <td>neu</td>\n    </tr>\n    <tr>\n      <th>Total</th>\n      <td>891.0</td>\n      <td>549.0</td>\n      <td>342.0</td>\n      <td>0.383838</td>\n      <td>1.000000</td>\n      <td>1.000000</td>\n      <td>0.000000</td>\n      <td>0.603326</td>\n      <td></td>\n    </tr>\n  </tbody>\n</table>\n</div>"
     },
     "metadata": {},
     "execution_count": 19
    }
   ],
   "source": [
    "mod.display_variable('fare')"
   ]
  },
  {
   "cell_type": "code",
   "execution_count": 20,
   "metadata": {},
   "outputs": [],
   "source": [
    "mod['fare'].undo()"
   ]
  },
  {
   "cell_type": "code",
   "execution_count": 21,
   "metadata": {},
   "outputs": [
    {
     "output_type": "execute_result",
     "data": {
      "text/plain": [
       "                    N   # 0s   # 1s   1s Rate      % 0s      % 1s       WoE  \\\n",
       "(-inf, 10.48]   339.0  272.0   67.0  0.197640  0.495446  0.195906 -0.927822   \n",
       "(10.48, 15.65]  136.0   83.0   53.0  0.389706  0.151184  0.154971  0.024739   \n",
       "(15.65, 31.14]  194.0  101.0   93.0  0.479381  0.183971  0.271930  0.390767   \n",
       "(31.14, 50.99]   63.0   43.0   20.0  0.317460  0.078324  0.058480 -0.292180   \n",
       "(50.99, 74.38]   62.0   27.0   35.0  0.564516  0.049180  0.102339  0.732799   \n",
       "(74.38, inf]     97.0   23.0   74.0  0.762887  0.041894  0.216374  1.641859   \n",
       "Missing           0.0    0.0    0.0  0.000000  0.000000  0.000000  0.000000   \n",
       "Total           891.0  549.0  342.0  0.383838  1.000000  1.000000  0.000000   \n",
       "\n",
       "                      IV Constr  \n",
       "(-inf, 10.48]   0.277920         \n",
       "(10.48, 15.65]  0.000094         \n",
       "(15.65, 31.14]  0.034371         \n",
       "(31.14, 50.99]  0.005798         \n",
       "(50.99, 74.38]  0.038955         \n",
       "(74.38, inf]    0.286471         \n",
       "Missing         0.000000    neu  \n",
       "Total           0.643609         "
      ],
      "text/html": "<div>\n<style scoped>\n    .dataframe tbody tr th:only-of-type {\n        vertical-align: middle;\n    }\n\n    .dataframe tbody tr th {\n        vertical-align: top;\n    }\n\n    .dataframe thead th {\n        text-align: right;\n    }\n</style>\n<table border=\"1\" class=\"dataframe\">\n  <thead>\n    <tr style=\"text-align: right;\">\n      <th></th>\n      <th>N</th>\n      <th># 0s</th>\n      <th># 1s</th>\n      <th>1s Rate</th>\n      <th>% 0s</th>\n      <th>% 1s</th>\n      <th>WoE</th>\n      <th>IV</th>\n      <th>Constr</th>\n    </tr>\n  </thead>\n  <tbody>\n    <tr>\n      <th>(-inf, 10.48]</th>\n      <td>339.0</td>\n      <td>272.0</td>\n      <td>67.0</td>\n      <td>0.197640</td>\n      <td>0.495446</td>\n      <td>0.195906</td>\n      <td>-0.927822</td>\n      <td>0.277920</td>\n      <td></td>\n    </tr>\n    <tr>\n      <th>(10.48, 15.65]</th>\n      <td>136.0</td>\n      <td>83.0</td>\n      <td>53.0</td>\n      <td>0.389706</td>\n      <td>0.151184</td>\n      <td>0.154971</td>\n      <td>0.024739</td>\n      <td>0.000094</td>\n      <td></td>\n    </tr>\n    <tr>\n      <th>(15.65, 31.14]</th>\n      <td>194.0</td>\n      <td>101.0</td>\n      <td>93.0</td>\n      <td>0.479381</td>\n      <td>0.183971</td>\n      <td>0.271930</td>\n      <td>0.390767</td>\n      <td>0.034371</td>\n      <td></td>\n    </tr>\n    <tr>\n      <th>(31.14, 50.99]</th>\n      <td>63.0</td>\n      <td>43.0</td>\n      <td>20.0</td>\n      <td>0.317460</td>\n      <td>0.078324</td>\n      <td>0.058480</td>\n      <td>-0.292180</td>\n      <td>0.005798</td>\n      <td></td>\n    </tr>\n    <tr>\n      <th>(50.99, 74.38]</th>\n      <td>62.0</td>\n      <td>27.0</td>\n      <td>35.0</td>\n      <td>0.564516</td>\n      <td>0.049180</td>\n      <td>0.102339</td>\n      <td>0.732799</td>\n      <td>0.038955</td>\n      <td></td>\n    </tr>\n    <tr>\n      <th>(74.38, inf]</th>\n      <td>97.0</td>\n      <td>23.0</td>\n      <td>74.0</td>\n      <td>0.762887</td>\n      <td>0.041894</td>\n      <td>0.216374</td>\n      <td>1.641859</td>\n      <td>0.286471</td>\n      <td></td>\n    </tr>\n    <tr>\n      <th>Missing</th>\n      <td>0.0</td>\n      <td>0.0</td>\n      <td>0.0</td>\n      <td>0.000000</td>\n      <td>0.000000</td>\n      <td>0.000000</td>\n      <td>0.000000</td>\n      <td>0.000000</td>\n      <td>neu</td>\n    </tr>\n    <tr>\n      <th>Total</th>\n      <td>891.0</td>\n      <td>549.0</td>\n      <td>342.0</td>\n      <td>0.383838</td>\n      <td>1.000000</td>\n      <td>1.000000</td>\n      <td>0.000000</td>\n      <td>0.643609</td>\n      <td></td>\n    </tr>\n  </tbody>\n</table>\n</div>"
     },
     "metadata": {},
     "execution_count": 21
    }
   ],
   "source": [
    "mod.display_variable('fare')"
   ]
  },
  {
   "cell_type": "code",
   "execution_count": null,
   "metadata": {},
   "outputs": [],
   "source": []
  }
 ]
}